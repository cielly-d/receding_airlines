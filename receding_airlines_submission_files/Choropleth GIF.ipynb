{
 "cells": [
  {
   "cell_type": "code",
   "execution_count": 1,
   "metadata": {},
   "outputs": [],
   "source": [
    "import imageio\n",
    "import os"
   ]
  },
  {
   "cell_type": "code",
   "execution_count": 7,
   "metadata": {},
   "outputs": [],
   "source": [
    "png_dir = './png/'"
   ]
  },
  {
   "cell_type": "code",
   "execution_count": 10,
   "metadata": {},
   "outputs": [
    {
     "name": "stdout",
     "output_type": "stream",
     "text": [
      "choro_1900s.png\n",
      "choro_1910s.png\n",
      "choro_1920s.png\n",
      "choro_1930s.png\n",
      "choro_1940s.png\n",
      "choro_1950s.png\n",
      "choro_1960s.png\n",
      "choro_1970s.png\n",
      "choro_1980s.png\n",
      "choro_1990s.png\n",
      "choro_2000s.png\n",
      "choro_2010s.png\n",
      "choro_2020s.png\n",
      "choropleth.gif\n"
     ]
    }
   ],
   "source": [
    "for file_name in sorted(os.listdir(png_dir)):\n",
    "    print(file_name)"
   ]
  },
  {
   "cell_type": "code",
   "execution_count": 13,
   "metadata": {},
   "outputs": [],
   "source": [
    "images = []\n",
    "for file_name in sorted(os.listdir(png_dir)):\n",
    "    if file_name.startswith('choro_'):\n",
    "        file_path = os.path.join(png_dir, file_name)\n",
    "        images.append(imageio.imread(file_path))\n",
    "imageio.mimsave('./png/choropleth.gif', images, fps = 0.5)"
   ]
  }
 ],
 "metadata": {
  "kernelspec": {
   "display_name": "Python 3",
   "language": "python",
   "name": "python3"
  },
  "language_info": {
   "codemirror_mode": {
    "name": "ipython",
    "version": 3
   },
   "file_extension": ".py",
   "mimetype": "text/x-python",
   "name": "python",
   "nbconvert_exporter": "python",
   "pygments_lexer": "ipython3",
   "version": "3.8.5"
  }
 },
 "nbformat": 4,
 "nbformat_minor": 4
}
